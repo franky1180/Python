{
 "cells": [
  {
   "cell_type": "code",
   "execution_count": 5,
   "id": "fcda7105-df5c-4139-ad72-74873112cf63",
   "metadata": {},
   "outputs": [],
   "source": [
    "x = 5"
   ]
  },
  {
   "cell_type": "code",
   "execution_count": 6,
   "id": "e739195f-d889-4281-bb3d-c9d7c8000ebd",
   "metadata": {},
   "outputs": [
    {
     "name": "stdout",
     "output_type": "stream",
     "text": [
      "5\n"
     ]
    }
   ],
   "source": [
    "print(x)"
   ]
  },
  {
   "cell_type": "code",
   "execution_count": 7,
   "id": "e5ece395-33e7-45bd-a47d-488662631a59",
   "metadata": {},
   "outputs": [
    {
     "data": {
      "text/plain": [
       "5"
      ]
     },
     "execution_count": 7,
     "metadata": {},
     "output_type": "execute_result"
    }
   ],
   "source": [
    "x"
   ]
  },
  {
   "cell_type": "code",
   "execution_count": 8,
   "id": "cff12b13-a672-43bb-9c9e-061e565920ef",
   "metadata": {},
   "outputs": [
    {
     "ename": "SyntaxError",
     "evalue": "invalid syntax (1973045331.py, line 1)",
     "output_type": "error",
     "traceback": [
      "\u001b[1;36m  Cell \u001b[1;32mIn[8], line 1\u001b[1;36m\u001b[0m\n\u001b[1;33m    1x\u001b[0m\n\u001b[1;37m     ^\u001b[0m\n\u001b[1;31mSyntaxError\u001b[0m\u001b[1;31m:\u001b[0m invalid syntax\n"
     ]
    }
   ],
   "source": [
    "1x"
   ]
  },
  {
   "cell_type": "code",
   "execution_count": 3,
   "id": "f8654909-0101-4485-bdb2-12a8ba676b97",
   "metadata": {},
   "outputs": [],
   "source": [
    "name = \"Ryan\""
   ]
  },
  {
   "cell_type": "code",
   "execution_count": 4,
   "id": "977c4587-f6ac-40e4-aeb0-edb56b51cd77",
   "metadata": {},
   "outputs": [
    {
     "data": {
      "text/plain": [
       "str"
      ]
     },
     "execution_count": 4,
     "metadata": {},
     "output_type": "execute_result"
    }
   ],
   "source": [
    "type(name)"
   ]
  },
  {
   "cell_type": "code",
   "execution_count": 9,
   "id": "9e338ba7-8772-4c24-9770-1cafbaef8562",
   "metadata": {},
   "outputs": [
    {
     "data": {
      "text/plain": [
       "int"
      ]
     },
     "execution_count": 9,
     "metadata": {},
     "output_type": "execute_result"
    }
   ],
   "source": [
    "type(x)"
   ]
  },
  {
   "cell_type": "markdown",
   "id": "2d71ca34-73c6-4fce-bd9a-62df69abb27a",
   "metadata": {},
   "source": [
    "## Numbers"
   ]
  },
  {
   "cell_type": "code",
   "execution_count": 10,
   "id": "3194c1ec-7ccb-46f9-83eb-c29cc0389b36",
   "metadata": {},
   "outputs": [
    {
     "data": {
      "text/plain": [
       "float"
      ]
     },
     "execution_count": 10,
     "metadata": {},
     "output_type": "execute_result"
    }
   ],
   "source": [
    "type(1.5)"
   ]
  },
  {
   "cell_type": "code",
   "execution_count": 11,
   "id": "82587379-00ea-4b92-993b-01750a216492",
   "metadata": {},
   "outputs": [
    {
     "data": {
      "text/plain": [
       "1.2343343"
      ]
     },
     "execution_count": 11,
     "metadata": {},
     "output_type": "execute_result"
    }
   ],
   "source": [
    "1.2343343"
   ]
  },
  {
   "cell_type": "code",
   "execution_count": 12,
   "id": "077b827f-0579-4d8c-b20f-fd9441beadfa",
   "metadata": {},
   "outputs": [
    {
     "data": {
      "text/plain": [
       "complex"
      ]
     },
     "execution_count": 12,
     "metadata": {},
     "output_type": "execute_result"
    }
   ],
   "source": [
    "type(2j)"
   ]
  },
  {
   "cell_type": "code",
   "execution_count": null,
   "id": "63ad9a0e-408f-4354-a096-eab8d7c64c65",
   "metadata": {},
   "outputs": [],
   "source": []
  },
  {
   "cell_type": "markdown",
   "id": "6fb4d632-db88-4e93-b882-9fbb1a129cc6",
   "metadata": {},
   "source": [
    "## Strings"
   ]
  },
  {
   "cell_type": "code",
   "execution_count": 15,
   "id": "3c3af855-50ce-4147-b8b8-201145b2573a",
   "metadata": {},
   "outputs": [
    {
     "data": {
      "text/plain": [
       "'String 1 String 2'"
      ]
     },
     "execution_count": 15,
     "metadata": {},
     "output_type": "execute_result"
    }
   ],
   "source": [
    "'String 1 ' + 'String 2'"
   ]
  },
  {
   "cell_type": "code",
   "execution_count": 16,
   "id": "a94d1677-bca5-4cb9-bda9-824aeaad9b9f",
   "metadata": {},
   "outputs": [
    {
     "data": {
      "text/plain": [
       "'11'"
      ]
     },
     "execution_count": 16,
     "metadata": {},
     "output_type": "execute_result"
    }
   ],
   "source": [
    "'1' + '1'"
   ]
  },
  {
   "cell_type": "code",
   "execution_count": 17,
   "id": "4f55983e-a1f1-4f84-8295-5da5c6e90f0d",
   "metadata": {},
   "outputs": [
    {
     "ename": "TypeError",
     "evalue": "can only concatenate str (not \"int\") to str",
     "output_type": "error",
     "traceback": [
      "\u001b[1;31m---------------------------------------------------------------------------\u001b[0m",
      "\u001b[1;31mTypeError\u001b[0m                                 Traceback (most recent call last)",
      "Cell \u001b[1;32mIn[17], line 1\u001b[0m\n\u001b[1;32m----> 1\u001b[0m \u001b[38;5;124;43m'\u001b[39;49m\u001b[38;5;124;43m1\u001b[39;49m\u001b[38;5;124;43m'\u001b[39;49m\u001b[43m \u001b[49m\u001b[38;5;241;43m+\u001b[39;49m\u001b[43m \u001b[49m\u001b[38;5;241;43m1\u001b[39;49m\n",
      "\u001b[1;31mTypeError\u001b[0m: can only concatenate str (not \"int\") to str"
     ]
    }
   ],
   "source": [
    "'1' + 1"
   ]
  },
  {
   "cell_type": "code",
   "execution_count": null,
   "id": "0def85c5-585a-41eb-afff-751709953816",
   "metadata": {},
   "outputs": [],
   "source": [
    "## Booleans"
   ]
  },
  {
   "cell_type": "code",
   "execution_count": 18,
   "id": "d14b61c4-7a16-4ed1-a44e-6ec958e81ac1",
   "metadata": {},
   "outputs": [
    {
     "data": {
      "text/plain": [
       "True"
      ]
     },
     "execution_count": 18,
     "metadata": {},
     "output_type": "execute_result"
    }
   ],
   "source": [
    "True"
   ]
  },
  {
   "cell_type": "code",
   "execution_count": 19,
   "id": "fad5915f-8910-4aa9-adc4-eee34e686bad",
   "metadata": {},
   "outputs": [
    {
     "data": {
      "text/plain": [
       "False"
      ]
     },
     "execution_count": 19,
     "metadata": {},
     "output_type": "execute_result"
    }
   ],
   "source": [
    "False"
   ]
  },
  {
   "cell_type": "code",
   "execution_count": 20,
   "id": "e323d94b-97fc-4b1f-b27d-30fe6c5b5453",
   "metadata": {},
   "outputs": [
    {
     "ename": "SyntaxError",
     "evalue": "cannot assign to True (1601851819.py, line 1)",
     "output_type": "error",
     "traceback": [
      "\u001b[1;36m  Cell \u001b[1;32mIn[20], line 1\u001b[1;36m\u001b[0m\n\u001b[1;33m    True = False\u001b[0m\n\u001b[1;37m    ^\u001b[0m\n\u001b[1;31mSyntaxError\u001b[0m\u001b[1;31m:\u001b[0m cannot assign to True\n"
     ]
    }
   ],
   "source": [
    "True = False"
   ]
  },
  {
   "cell_type": "code",
   "execution_count": 21,
   "id": "1e38885a-a0f6-4781-a208-89cdf844cc87",
   "metadata": {},
   "outputs": [
    {
     "data": {
      "text/plain": [
       "True"
      ]
     },
     "execution_count": 21,
     "metadata": {},
     "output_type": "execute_result"
    }
   ],
   "source": [
    "1 == 1"
   ]
  },
  {
   "cell_type": "markdown",
   "id": "d9d2ca11-4f2f-48fb-8924-9024cc84daa5",
   "metadata": {},
   "source": [
    "## Data Structures"
   ]
  },
  {
   "cell_type": "markdown",
   "id": "508abccb-0010-4f49-acd6-453d880c80bd",
   "metadata": {},
   "source": [
    "### Lists"
   ]
  },
  {
   "cell_type": "code",
   "execution_count": 26,
   "id": "60c7e93e-8eb7-4673-9b8b-6c2be56b552b",
   "metadata": {},
   "outputs": [],
   "source": [
    "my_list = [1,2,3,4]"
   ]
  },
  {
   "cell_type": "code",
   "execution_count": 27,
   "id": "3b16b586-9e12-4635-9a37-07d93e7fdac4",
   "metadata": {},
   "outputs": [
    {
     "name": "stdout",
     "output_type": "stream",
     "text": [
      "[1, 2, 3, 4]\n"
     ]
    }
   ],
   "source": [
    "print(my_list)"
   ]
  },
  {
   "cell_type": "code",
   "execution_count": 24,
   "id": "c28aa9e0-f826-4007-8d2b-34817d364475",
   "metadata": {},
   "outputs": [],
   "source": [
    "my_list = [1,2,3,4]"
   ]
  },
  {
   "cell_type": "code",
   "execution_count": null,
   "id": "b769fbfb-a5d1-44df-b453-81dad3626ab9",
   "metadata": {},
   "outputs": [],
   "source": []
  },
  {
   "cell_type": "code",
   "execution_count": 25,
   "id": "2ea2c105-dc4d-4d38-b45e-fd7bc2451c64",
   "metadata": {},
   "outputs": [
    {
     "name": "stdout",
     "output_type": "stream",
     "text": [
      "[1, 2, 3, 4]\n"
     ]
    }
   ],
   "source": [
    "print(my_list)"
   ]
  },
  {
   "cell_type": "code",
   "execution_count": 28,
   "id": "af77465d-bd74-4811-a17b-6d213c1813bc",
   "metadata": {},
   "outputs": [],
   "source": [
    "my_list = ['list', 'of', 'strings']"
   ]
  },
  {
   "cell_type": "code",
   "execution_count": null,
   "id": "b74428f4-e07f-437b-97f7-f46a807a5a9c",
   "metadata": {},
   "outputs": [],
   "source": [
    "my_list = [1, 'list', False, []'"
   ]
  },
  {
   "cell_type": "code",
   "execution_count": 29,
   "id": "b3185347-08f0-48c0-8b57-72b0179b8b43",
   "metadata": {},
   "outputs": [],
   "source": [
    "my_list = [[1,2,3], [False, True], []]"
   ]
  },
  {
   "cell_type": "code",
   "execution_count": 30,
   "id": "38dd690f-78a2-449b-8810-db51db289852",
   "metadata": {},
   "outputs": [
    {
     "data": {
      "text/plain": [
       "3"
      ]
     },
     "execution_count": 30,
     "metadata": {},
     "output_type": "execute_result"
    }
   ],
   "source": [
    "len(my_list)"
   ]
  },
  {
   "cell_type": "markdown",
   "id": "bdaae932-74aa-47d5-8e32-c258c87a838d",
   "metadata": {},
   "source": [
    "## Sets"
   ]
  },
  {
   "cell_type": "code",
   "execution_count": 31,
   "id": "8e910094-6395-4fea-8232-63e0acfe348b",
   "metadata": {},
   "outputs": [],
   "source": [
    "my_set = {1, 2, 3, 4, 5}"
   ]
  },
  {
   "cell_type": "code",
   "execution_count": 32,
   "id": "4027ca66-0008-454f-b88f-47b08edfb8a9",
   "metadata": {},
   "outputs": [
    {
     "name": "stdout",
     "output_type": "stream",
     "text": [
      "{1, 2, 3, 4, 5}\n"
     ]
    }
   ],
   "source": [
    "print(my_set)"
   ]
  },
  {
   "cell_type": "code",
   "execution_count": 33,
   "id": "43a90342-2cc9-4e8e-9fb7-145c6cbea230",
   "metadata": {},
   "outputs": [
    {
     "data": {
      "text/plain": [
       "5"
      ]
     },
     "execution_count": 33,
     "metadata": {},
     "output_type": "execute_result"
    }
   ],
   "source": [
    "len(my_set)"
   ]
  },
  {
   "cell_type": "code",
   "execution_count": 34,
   "id": "ef876816-94eb-405e-b587-54dd51d7a1d5",
   "metadata": {},
   "outputs": [],
   "source": [
    "my_set = {1, 1, 2, 2}"
   ]
  },
  {
   "cell_type": "code",
   "execution_count": 38,
   "id": "9dee05ea-d9f8-41b2-a0cd-ffc5d7537f12",
   "metadata": {},
   "outputs": [
    {
     "name": "stdout",
     "output_type": "stream",
     "text": [
      "{1, 2}\n"
     ]
    }
   ],
   "source": [
    "len(my_set)\n",
    "print(my_set)"
   ]
  },
  {
   "cell_type": "code",
   "execution_count": 39,
   "id": "b9c4456c-fb70-4846-bbe3-97a881d5c591",
   "metadata": {},
   "outputs": [
    {
     "name": "stdout",
     "output_type": "stream",
     "text": [
      "{1, 2}\n"
     ]
    }
   ],
   "source": [
    "print(my_set)"
   ]
  },
  {
   "cell_type": "code",
   "execution_count": 40,
   "id": "0ad18c6f-b589-4d3c-938a-ffe2649e35f0",
   "metadata": {},
   "outputs": [
    {
     "data": {
      "text/plain": [
       "False"
      ]
     },
     "execution_count": 40,
     "metadata": {},
     "output_type": "execute_result"
    }
   ],
   "source": [
    "[1, 2] == [2, 1]"
   ]
  },
  {
   "cell_type": "code",
   "execution_count": 43,
   "id": "562501dd-374b-4c92-af1a-d5966603d3fe",
   "metadata": {},
   "outputs": [
    {
     "data": {
      "text/plain": [
       "True"
      ]
     },
     "execution_count": 43,
     "metadata": {},
     "output_type": "execute_result"
    }
   ],
   "source": [
    "{1, 2, 3} == {3, 2, 1}"
   ]
  },
  {
   "cell_type": "markdown",
   "id": "f1f3eab4-81ba-43d0-9d60-dfcaf0602947",
   "metadata": {},
   "source": [
    "## Tuples"
   ]
  },
  {
   "cell_type": "code",
   "execution_count": 47,
   "id": "c15205f3-b6d2-4975-8981-8451c430a0f7",
   "metadata": {},
   "outputs": [],
   "source": [
    "my_tuple = (1, 2, 3)"
   ]
  },
  {
   "cell_type": "code",
   "execution_count": 48,
   "id": "98af1bba-085d-456f-8bdc-da909a8ce2bc",
   "metadata": {},
   "outputs": [
    {
     "data": {
      "text/plain": [
       "3"
      ]
     },
     "execution_count": 48,
     "metadata": {},
     "output_type": "execute_result"
    }
   ],
   "source": [
    "len(my_tuple)"
   ]
  },
  {
   "cell_type": "code",
   "execution_count": 49,
   "id": "f8e9b286-d8db-48bf-a912-4bd0aca835fa",
   "metadata": {},
   "outputs": [
    {
     "data": {
      "text/plain": [
       "False"
      ]
     },
     "execution_count": 49,
     "metadata": {},
     "output_type": "execute_result"
    }
   ],
   "source": [
    "(1, 2) == (2, 1)"
   ]
  },
  {
   "cell_type": "code",
   "execution_count": 50,
   "id": "cf5c47c8-20c6-4281-a344-a4d0a7b38b34",
   "metadata": {},
   "outputs": [],
   "source": [
    "my_list.append(6)"
   ]
  },
  {
   "cell_type": "code",
   "execution_count": 51,
   "id": "fe03e12b-ae30-4a89-8c52-52784b5f9a10",
   "metadata": {},
   "outputs": [
    {
     "name": "stdout",
     "output_type": "stream",
     "text": [
      "[[1, 2, 3], [False, True], [], 6]\n"
     ]
    }
   ],
   "source": [
    "print(my_list)"
   ]
  },
  {
   "cell_type": "markdown",
   "id": "cc1e29fa-fa1a-4b1d-b9ae-1d9ae60a7a39",
   "metadata": {},
   "source": [
    "## Dictionaries"
   ]
  },
  {
   "cell_type": "code",
   "execution_count": 62,
   "id": "a584c00f-8ed2-4228-9b54-7eb66178c00c",
   "metadata": {},
   "outputs": [],
   "source": [
    "my_dictionary = { 'apple' : 'A red fruit', 'bear' : 'A scary animal' }"
   ]
  },
  {
   "cell_type": "code",
   "execution_count": 59,
   "id": "7f8ca6df-3a82-4d0b-85ff-23b4d1e8e08c",
   "metadata": {},
   "outputs": [
    {
     "data": {
      "text/plain": [
       "'A red fruit'"
      ]
     },
     "execution_count": 59,
     "metadata": {},
     "output_type": "execute_result"
    }
   ],
   "source": [
    "my_dictionary['apple']"
   ]
  },
  {
   "cell_type": "code",
   "execution_count": 63,
   "id": "d7185474-cb2f-4de1-b146-dc84d165a436",
   "metadata": {},
   "outputs": [
    {
     "data": {
      "text/plain": [
       "'A scary animal'"
      ]
     },
     "execution_count": 63,
     "metadata": {},
     "output_type": "execute_result"
    }
   ],
   "source": [
    "my_dictionary['bear']"
   ]
  },
  {
   "cell_type": "code",
   "execution_count": null,
   "id": "ad1ad242-e08d-4267-bc35-cb9283c0229d",
   "metadata": {},
   "outputs": [],
   "source": []
  }
 ],
 "metadata": {
  "kernelspec": {
   "display_name": "Python 3 (ipykernel)",
   "language": "python",
   "name": "python3"
  },
  "language_info": {
   "codemirror_mode": {
    "name": "ipython",
    "version": 3
   },
   "file_extension": ".py",
   "mimetype": "text/x-python",
   "name": "python",
   "nbconvert_exporter": "python",
   "pygments_lexer": "ipython3",
   "version": "3.9.5"
  }
 },
 "nbformat": 4,
 "nbformat_minor": 5
}
